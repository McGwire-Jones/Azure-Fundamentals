{
 "cells": [
  {
   "cell_type": "markdown",
   "metadata": {},
   "source": [
    "# Describe Azure Compute and Networking Services\n",
    "Objectives\n",
    "* Compare compute types: containers, VMs, and functions\n",
    "* Describe VM options\n",
    "* Describe resources required for VMs\n",
    "* Describe application hosting options: Azure Web Apps, containers, and VMs\n",
    "* Describe virtual networking: Azure Virutal NEtworks, Azure Virtual Subnets, peering, Azure DNS, VPN Gateway, and ExpressRoute\n",
    "* Define public and private endpoints"
   ]
  },
  {
   "cell_type": "markdown",
   "metadata": {},
   "source": [
    "### Describe Azure VMs\n",
    "VMs provide IaaS in the form of a virtualized server. They are ideal for \n",
    "* Total control over the OS\n",
    "* The ability to run custom software\n",
    "* To use custom hosting configurations\n",
    "\n",
    "**Scale VMs in Azure**\n",
    "You can group VMs together to provide high availability, scalability, and redundancy. Azure can manage these groups with features such as scale sets and availability sets.\n",
    "* **Scale Sets**: Let you create an manage a group of identical, load-balanced VMs. This allows Azure to automate the work of configuration and network routing between VMs\n",
    "* **Availibility Sets**: Designed to ensure that VMs stagger updates and have varied power and network connectivity so that one failure won't lose all VMs\n",
    "    * *Update Domain*: Groups VMs that can be rebooted at the same time\n",
    "    * *Fault Domain*: Groups VMs by common power source and network switch."
   ]
  },
  {
   "cell_type": "markdown",
   "metadata": {},
   "source": [
    "### When to use VMs\n",
    "* During testing and development\n",
    "* When running applications in the cloud\n",
    "* When extending your datacenter to the cloud\n",
    "* During Disaster recovery\n",
    "\n",
    "When provisioning a VM you pick\n",
    "* Size (Purpose, number of processor cores, RAM)\n",
    "* Storage disks (Hard disk drives, solid state drives)\n",
    "* Networking (Virtual network, public IP address, and port configuration)"
   ]
  },
  {
   "cell_type": "markdown",
   "metadata": {},
   "source": [
    "### Describe Azure Virtual Desktop\n",
    "Is a desktop and application virtualization service that runs on the cloud. It enables you to use a cloud-hosted version of Windows from any location. \n",
    "\n",
    "It provides centralized security management for users' desktops with Microsoft Entra ID with optional multifactor authentication. The data and apps are seperated from the local hardware. "
   ]
  },
  {
   "cell_type": "markdown",
   "metadata": {},
   "source": [
    "### Describe Azure Contains\n",
    "VMs are limited to a single OS per VM. If you want to run multiple instances of an application on a single host, containers are an excellent choice\n",
    "\n",
    "**What are containers**\n",
    "\n",
    "Containers are a virutalization environment. Much like running multiple VMs on a single physical host, you can run multiple containers on a single physical or virtual host.\n",
    "\n",
    "You do not manage the OS for a container. VMs appear to be an instance of an OS that you can connect to and manage\n",
    "\n",
    "**Azure Container Instances**: The fastest and simplest way to run a container in Azure. Offered as PaaS.\n",
    "\n",
    "**Azure Container Apps**: Similar to an instance. They allow you to get up and running quickly. They remove the container management piece and are a PaaS. They also allow load balancing and scaling\n",
    "\n",
    "**Azure Kubernetes Service**(AKS): Is a container orchestration service. It manages the lifecycle of containers.\n",
    "\n",
    "Containers are often used for microservice architecture.\n"
   ]
  },
  {
   "cell_type": "markdown",
   "metadata": {},
   "source": [
    "### Describe Azure Functions\n",
    "Is an event-drive, serverless compute option that doesn't require maintaining VMs or containers. If you build an app using VMs or containers, those resources must be \"running\" in order for you app to function. With Azure functions, an event wakes the function, alleviating the need to keep resource provisioned when there are no events.\n",
    "\n",
    "Benefits of Azure Functions\n",
    "* Ideal when concerned about code running your services and not the underlying platform/infrastructure. \n",
    "* Commonly used when you need to perform work in response to an event (often via a REST request), timer, or message, that can be completed quickly\n",
    "* Scale automatically based on demand\n",
    "* Runs your code when triggered then deallocates\n",
    "* Can be stateless or stateful (run new or remember prevous context)"
   ]
  },
  {
   "cell_type": "markdown",
   "metadata": {},
   "source": [
    "### Describe Application Hosting Options\n",
    "Aside from VMs and containers, you can host apps with \n",
    "\n",
    "**Azure App Service**\n",
    "\n",
    "Enables you to build and host web apps, background jobs, mobile back-ends, and RESTful APIs in the programming language of your choice without managing infrastructure. It offers automatic scaling and high availability. It supports Windows and Linux. It enables automated deployments from GitHub, Azure DevOps, or any Git repo\n",
    "\n",
    "**Types of App Services**\n",
    "* Web apps\n",
    "* API Apps\n",
    "* WebJobs\n",
    "* Mobil Apps\n",
    "\n",
    "Azure App Service handles the following infrastructure decisions\n",
    "* Deployment and management are integrated into the platform\n",
    "* Endpoints can be secured\n",
    "* Sites can be scaled quickly to handle high traffic loads\n",
    "* The built-in load balancing and traffic manager provides high availability"
   ]
  },
  {
   "cell_type": "markdown",
   "metadata": {},
   "source": [
    "### Describe Azure Virtual Networking\n",
    "Azure virtual networks and virtual subnets enable Azure resources, such as VMs, web apps, and databases to communicate with each other, with users on the internet, and with your on-prem client computers. They provide the following capabilities:\n",
    "* Isolation and segmentation\n",
    "* Internet communications\n",
    "* Communicate between Azure resources\n",
    "* Communicate with on-prem resourece\n",
    "* Route network traffic\n",
    "* Filter network traffic\n",
    "* Connect virtual networks\n",
    "\n",
    "Virutal networks support both public and private endpoints to enable comunication between external or internal resources with other ineternal resources\n",
    "* Public endpoints have a public IP address and can be accessed from anywhere in the world.\n",
    "* Private endpoints exist within a virtual network and have a private IP address from within the address space of that virtual network"
   ]
  },
  {
   "cell_type": "markdown",
   "metadata": {},
   "source": [
    "### Describe Azure Virtual Private Networks\n",
    "A virtual private network (VPN) uses an encrypted tunnel within another network. VPNs are typically deployed to connect two or more trusted private networks to one another over an untrusted network (typically public internet). Traffic is encrypted while traveling over the untrusted network to prevent eavesdropping"
   ]
  },
  {
   "cell_type": "markdown",
   "metadata": {},
   "source": [
    "### VPN Gateways\n",
    "\n",
    "A VPN Gateway is a type of virtual network gateway. Azure VPN Gateway instances are deployed in a dedicated subnet of the virutal network and enable the following\n",
    "* Connect on-prem datacenters to virtual networks through site-to-site connection\n",
    "* Connect individual devices to virtual networks through a point-to-site connection\n",
    "* Connect virtual networks to other virtual networks through network-to-network connection\n",
    "\n",
    "All data transfer is encryped inside a private tunnel as it crosses the internet. You can deploy only one VPN gateway in each virtual network. However, you can use one gateway to connect to multiple locations, which includes other virtual networks or on-premises datacenters.\n",
    "\n",
    "When setting up a VPN gateway, you must specify the type of VPN - either policy-based or route-based. \n",
    "* Policy based: specify statically the IP address of packets that should be encrypted through each tunnel\n",
    "* Route-based gateways, IPSec tunnels are modeled as a network interface or virtual tunnel interface.\n",
    "\n",
    "VPN gateways are good for \n",
    "* Connections between virtual networks\n",
    "* Point-to-site connections\n",
    "* Multisite connections\n",
    "* Coexistence with an Azure ExpressRoute gateway"
   ]
  },
  {
   "cell_type": "markdown",
   "metadata": {},
   "source": [
    "### High-availability Scenarios\n",
    "**Active/Standby**: By default, VPN gateways are deployed as two instances in active/standby configuration, event if you only see one VPN resource in Azure. When disruptions affects the active instance the standby takes over.\n",
    "\n",
    "**Active/Active**: With the introduction of support for the BGP routing protocol, you can also deploy VPN gateways in active/active configuration. In this configuration, you assign a unique public IP address to each instance. Then seperate tunnels from on-prem device to each IP-address.\n",
    "\n",
    "**ExpressRoute Failover**: Configure a VPN gateway as a secure failover path for ExpressRoute connections, which have resiliency built in. Can provision a VPN gateway that uses the internect as a backup in case there are problems with the physical ExpressRoute.\n",
    "\n",
    "**Zone-Redundant Gateways**: In regions that support availability zones, VPN gateways and ExpressRoute gateways can be deployed in zone-redundant configuration. This confugration brings resiliency, scalability, and higher availability o the virutal network gateways."
   ]
  },
  {
   "cell_type": "markdown",
   "metadata": {},
   "source": [
    "### Describe Azure ExpressRoute\n",
    "Lets you extend your on-prem networks into the microsoft cloud over a private connection, with the help of a connectivity provider called ExpressRoute Circuit. These connections are not through the internet and offer more reliability, faster speeds, consisten latencies, and higher security than typical connections. \n",
    "\n",
    "Features and Benefits\n",
    "* Connectivity to Microsoft cloud services across all regions in the geopolitical region\n",
    "* Global connectivity to Microsof services across all regions with the ExpressRoute Global Reach.\n",
    "* Dynamic Routing between your network and Microsoft via border gateway protocol (BGP)\n",
    "* Built in redundancy in eavery peering location for higher reliability\n",
    "\n",
    "**Connectivity to Microsoft Cloud Services**: ExpressRoute enables direct access to the following\n",
    "* Office 365\n",
    "* Dynamics 365\n",
    "* Azure compute services, i.e Azure VMs\n",
    "* Azure cloud services: such as Cosmos DB and Azure Storage\n",
    "\n",
    "**Global Connectivity**: Can enable ExpressRoute Global Reach to exhcnage data across your on-prem sites by connecting your ExpressRoute circuits.\n",
    "\n",
    "**Dyanmic Routing**: ExpressRoute uses the BGP. BGP is used to exchange routes between on-prem networks and resources running in Azure.\n",
    "\n",
    "**Built-in Redundancy**: Each provider uses redundant devies to ensure high availability.\n",
    "\n",
    "**ExpressRoute Connectivity Models**\n",
    "* Cloud Exchange colocation: when the datacenter, office, or other facility is co-located at a cloud exchange\n",
    "* Point-to-point Ethernet connection: Uses point-to-point connection to connect your facility to the cloud\n",
    "* Any-to-any connection: Can integrate with your Wide area Network (WAN) with Azure by providing connections to your offices and datacenters\n",
    "* Directly from ExpressRoute Sites: Can connection directly into the Microsofts global network at a peering location"
   ]
  },
  {
   "cell_type": "markdown",
   "metadata": {},
   "source": [
    "### Describe Azure DNS\n",
    "Is a hosting servie for DNS domains that provides name resoultion by using Microsoft Azure infrastructure.\n",
    "\n",
    "Benefits \n",
    "* Reliability and Performance: DNS domains in Azure DNS are hosted on Azure's global network of DNS name servers, providing high resiliency and high availability.\n",
    "* Security\n",
    "    * Azure role-based access control\n",
    "    * Activity Logs\n",
    "    * Resource locking\n",
    "* ease of use\n",
    "* Customizable Virtual Networks: Also supports private NDS domains\n",
    "* Alias Records"
   ]
  }
 ],
 "metadata": {
  "language_info": {
   "name": "python"
  }
 },
 "nbformat": 4,
 "nbformat_minor": 2
}
