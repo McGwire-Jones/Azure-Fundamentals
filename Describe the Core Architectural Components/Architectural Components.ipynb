{
 "cells": [
  {
   "cell_type": "markdown",
   "metadata": {},
   "source": [
    "# Core Architectural Components of Azure\n",
    "\n",
    "### Learning Objectives\n",
    "* Describe Azure regions, region pairs, and sovereign regions\n",
    "* Describe Availability Zones\n",
    "* Describe Azure datacenters\n",
    "* Describe resources and resource groups\n",
    "* Describe subscriptions\n",
    "* Describe management groups\n",
    "* Describe Heirarchy of resource groups, subscriptions, and management groups"
   ]
  },
  {
   "cell_type": "markdown",
   "metadata": {},
   "source": [
    "### What is Microsoft Azure\n",
    "Azure is a continually expanding set of cloud services that help meet business challenged.\n",
    "\n",
    "Azure has more than 100 services."
   ]
  },
  {
   "cell_type": "markdown",
   "metadata": {},
   "source": [
    "### Using Powershell CLI\n"
   ]
  }
 ],
 "metadata": {
  "language_info": {
   "name": "python"
  }
 },
 "nbformat": 4,
 "nbformat_minor": 2
}
