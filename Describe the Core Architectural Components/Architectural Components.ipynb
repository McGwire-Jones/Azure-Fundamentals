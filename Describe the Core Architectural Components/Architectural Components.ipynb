{
 "cells": [
  {
   "cell_type": "markdown",
   "metadata": {},
   "source": [
    "# Core Architectural Components of Azure\n",
    "\n",
    "### Learning Objectives\n",
    "* Describe Azure regions, region pairs, and sovereign regions\n",
    "* Describe Availability Zones\n",
    "* Describe Azure datacenters\n",
    "* Describe resources and resource groups\n",
    "* Describe subscriptions\n",
    "* Describe management groups\n",
    "* Describe Heirarchy of resource groups, subscriptions, and management groups"
   ]
  },
  {
   "cell_type": "markdown",
   "metadata": {},
   "source": [
    "### What is Microsoft Azure\n",
    "Azure is a continually expanding set of cloud services that help meet business challenged.\n",
    "\n",
    "Azure has more than 100 services."
   ]
  },
  {
   "cell_type": "markdown",
   "metadata": {},
   "source": [
    "### Using Powershell CLI\n",
    "To open the interactive environment\n",
    "\n",
    "`az interactive`\n",
    "\n",
    "Some commands to run in interactive are: `version`, `upgrade`, `exit`, `account show`."
   ]
  },
  {
   "cell_type": "markdown",
   "metadata": {},
   "source": [
    "### Describe Azure Physical Infrastructure\n",
    "*Physical Infrastructure*: Starts with datacenters. They are facilities with resources arranged in racks with dedicated power, cooling, and networking infrastructure.\n",
    "\n",
    "*Region*: A region is a geographical area that contains at least one, but potentially multiple datacenters that are nearby and networked together with a low-latency network. \n",
    "\n",
    "*Availability Zones*: Are physically separate datacenters within an Azure region. Each AZ is made of one or more datacenters equipped with independent power, cooling, and networking. An AZ is set up to be an isolation boundary. I.e if one goes down the other keeps working. They should be use to protect information in the case of failure. Azure has 3 categories of AZ support\n",
    "* Zonal Services: You pin the resource to a specific zone\n",
    "* Zone-redundant services: The platform replicates automatically across zones.\n",
    "* Non-regional services: Services are always available from Azure geographies and are resilient to zone-wide outages as well as region wide outages.\n",
    "\n",
    "*Region Pairs*: Most Azure regions are paired with another region within the same geography (i.e US, Europe, or Asia) at least 300 miles away. This allows replication in a way that reduces the likelihood of interruptions due to natural disasters, civil unrest, power outages, or physical network outages. Additional Advantages\n",
    "* One region of every pair is prioritized to make sure at least one is restored asap \n",
    "* Planned updates are rolled out to pairs 1 at a time to minimize downtime\n",
    "* Data continues to reside within the same geography (Except for Brazil South)\n",
    "\n",
    "*Sovereign Regions*: Azure has sovereign regions that are isolated for compliance or legal purposes. They include\n",
    "* US DoD Central, US Gov Virginia, US Gov Iowa and more: These regions are physical and logical network-isolated instances of Azure for U.S. government agencies and partners. These datacenters are operated by screened U.S. personnel and include additional compliance certifications.\n",
    "* China East, China North, and more: These regions are available through a unique partnership between Microsoft and 21Vianet, whereby Microsoft doesn't directly maintain the datacenters."
   ]
  },
  {
   "cell_type": "markdown",
   "metadata": {},
   "source": [
    "### Describe Azure Management Infrastructure\n",
    "*Resource*: The basic building block of Azure, anything you create, provision, deploy, etc is a resource. \n",
    "\n",
    "*Resource Groups*: are groups of resources. When you create a RG you're required to place it into a resource group. While a resource group can contain many resource, a single resource can only be in one RG at a time. Resource grouping cannot be nested.\n",
    "\n",
    "RGs allow convenient grouping so actions on a group effect all of its resources\n",
    "\n",
    "*Azure Subscriptions*: are a unit of management, billing, and scale. Similar to how RGs allow you to group resources, subscriptions allow you to organize your resource groups and facilitate billing. An account can have multiple subscriptions with different access-management policies. They allow two types of boundaries\n",
    "* *Billing boundary*: This type determines how an account is billed for using Azure. You can create multiple subscriptions for different types of billing requirements.\n",
    "* *Access Control Boundary*: Applies access-management policies at the subscription level\n",
    "\n",
    "*Azure Management Groups*: Subscriptions can be organized into Azure Management Groups."
   ]
  }
 ],
 "metadata": {
  "language_info": {
   "name": "python"
  }
 },
 "nbformat": 4,
 "nbformat_minor": 2
}
