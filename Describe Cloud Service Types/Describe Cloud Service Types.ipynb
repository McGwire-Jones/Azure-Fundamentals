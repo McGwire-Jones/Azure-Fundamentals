{
 "cells": [
  {
   "cell_type": "markdown",
   "metadata": {},
   "source": [
    "# Describe Cloud Service Types\n",
    "### Objectives\n",
    "* Describe infrastructure as a Service (IaaS)\n",
    "* Describe Platform as a Service (PaaS)\n",
    "* Describe Software as a Service (SaaS)\n",
    "* Identify when to use each"
   ]
  },
  {
   "cell_type": "markdown",
   "metadata": {},
   "source": [
    "### Infrastructure as a Service\n",
    "* Is the most flexible category of cloud services\n",
    "* The cloud provider maintains: hardware, network connectivity, and physical securitys\n",
    "* The consumer maintains: OS installation, configuration, and maintenance; network configuraiton; data and storage configuraiotn\n",
    "* Essentially the consumer rents the hardware in a cloud data center\n",
    "\n",
    "Useful Scenarios\n",
    "* Lift-and-shift migration: you're standing up cloud resources similar to your on-prem datacenter then moving the things to IaaS\n",
    "* Testing and development: You have established configuration for dev and test environments that you need to rapidly replicate"
   ]
  },
  {
   "cell_type": "markdown",
   "metadata": {},
   "source": [
    "### Platform as a Service\n",
    "Cloud provider maintains\n",
    "* physical infrastructure\n",
    "* Physical security\n",
    "* connection to the internet\n",
    "* Operating systems\n",
    "* middleware\n",
    "* development tools\n",
    "* business inteligence service\n",
    "\n",
    "Consumer maintains\n",
    "* Information and data\n",
    "* Devices\n",
    "* Accounts and identities\n",
    "* Potentially\n",
    "    * Identity/directory infrastructure\n",
    "    * Applications\n",
    "    * Network controls\n",
    "\n",
    "Think of PaaS like using a domain joined machine: IT maintains the device with regular updates, patches, and refreshes\n",
    "\n",
    "Scenarios\n",
    "* Development framework: Provides a framework that devs can build upon to develop or customize cloud-based applications\n",
    "* Analytics or Business Intelligence: Tools provides as service with PaaS allow orgs to analyze and mine their data, finding insights and patterns and predicting outcomes. "
   ]
  },
  {
   "cell_type": "markdown",
   "metadata": {},
   "source": [
    "### Software as a Service\n",
    "The most complete cloud service model where the provider does the most. The consumer is essentially renting a fully developed application.\n",
    "\n",
    "Consumer Maintains\n",
    "* Information and data\n",
    "* Devices\n",
    "* Accounts and identities\n",
    "\n",
    "Provider Maintains\n",
    "* everything else\n",
    "\n",
    "Scenarios\n",
    "* Email and Messaging\n",
    "* Business productivity applications\n",
    "* Finance and expense tracking"
   ]
  }
 ],
 "metadata": {
  "language_info": {
   "name": "python"
  }
 },
 "nbformat": 4,
 "nbformat_minor": 2
}
