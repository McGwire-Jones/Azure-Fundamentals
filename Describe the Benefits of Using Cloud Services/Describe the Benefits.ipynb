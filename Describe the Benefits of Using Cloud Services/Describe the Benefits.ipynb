{
 "cells": [
  {
   "cell_type": "markdown",
   "metadata": {},
   "source": [
    "# Describe the Beneftis of Using Cloud Services\n",
    "### Learning Objectives\n",
    "* Describe the benefits of high availability/scalability in the cloud\n",
    "* Describe the benefits of reliability and predictability in the cloud\n",
    "* Describe the benefits of security and governance in the cloud\n",
    "* Describe the benefits of manageability in the cloud"
   ]
  },
  {
   "cell_type": "markdown",
   "metadata": {},
   "source": [
    "### High Availability and Scalability\n",
    "**High Availability**: focuses on making sure the resources are available when eneded. Azure has uptime guarantees based on Service-Level agreements (SLAs).\n",
    "\n",
    "**Scalability**: The ability to adjust resources to meet demand\n",
    "* *Vertical Scaling*: increases the capabilities of resources\n",
    "* *Horizontal Scaling*: Adds or decreases the number of resources"
   ]
  },
  {
   "cell_type": "markdown",
   "metadata": {},
   "source": [
    "### Reliability and Predictability\n",
    "**Reliability**: The ability of a system to recover from failures and continue to function.\n",
    "\n",
    "**Predictability**\n",
    "* *Performance Predictability*: Focuses on predicting the resources needed to deliver for the consumers using: (Autoscaling, load balancing, high availability)\n",
    "* *Cost Predictability*: Focuses on forecasting the cost of the cloud spend"
   ]
  },
  {
   "cell_type": "markdown",
   "metadata": {},
   "source": [
    "### Security and Governance\n",
    "Cloud features support security and governance by\n",
    "* Allowing set templates to ensure deployed resources meet standards\n",
    "* Can update all resources under one template at once\n",
    "* Allows cloud based auditing"
   ]
  },
  {
   "cell_type": "markdown",
   "metadata": {},
   "source": [
    "### Manageability\n",
    "Management *of* the cloud\n",
    "* Automatically scale resource deployment\n",
    "* Deploy resources based on preconfigured template\n",
    "* Monitor the health of resources and autmatically replace failing resources\n",
    "* Receive automatic alerts based on configured metrics\n",
    "\n",
    "Management *in* the cloud: Manages cloud environment and resources\n",
    "* Through web portal\n",
    "* Using CLI\n",
    "* Using APIs\n",
    "* User Powershell"
   ]
  }
 ],
 "metadata": {
  "language_info": {
   "name": "python"
  }
 },
 "nbformat": 4,
 "nbformat_minor": 2
}
