{
 "cells": [
  {
   "cell_type": "markdown",
   "metadata": {},
   "source": [
    "# Describe Cloud Computing"
   ]
  },
  {
   "cell_type": "markdown",
   "metadata": {},
   "source": [
    "### Introduction\n",
    "* Define cloud computing\n",
    "* Describe shared responsibility model\n",
    "* Define cloud models: public, private, and hybrid\n",
    "* identity appropriate use cases\n",
    "* Describe consumption-based model\n",
    "* Compare cloud pricing models"
   ]
  },
  {
   "cell_type": "markdown",
   "metadata": {},
   "source": [
    "### What is cloud computing\n",
    "*Cloud computing* is the delivery of computing services over the internet. These services include common IT infrastructure such as \n",
    "* virtual machines\n",
    "* storage\n",
    "* databases\n",
    "* networking\n",
    "* Ineternet of things (IoT)\n",
    "* Machine learning (ML)\n",
    "* Artificial Intellilgence (AI)"
   ]
  },
  {
   "cell_type": "markdown",
   "metadata": {},
   "source": [
    "### Describe the Shared Responsibility Model\n",
    "With the shared responsibility model maintaining the infrastructure and software of the components is split between the provider and the consumer.\n",
    "\n",
    "The provider handles\n",
    "* Physical Hosts\n",
    "* Physical Network\n",
    "* Physical Datacenter\n",
    "\n",
    "The consumer handles \n",
    "* Information and data\n",
    "* Devices (Mobile and PCs)\n",
    "* Accounts and Identities\n",
    "\n",
    "Things that depend on the situation\n",
    "* Identity and directory infrastructure\n",
    "* Applications\n",
    "* Network controls\n",
    "* Operating system"
   ]
  },
  {
   "cell_type": "markdown",
   "metadata": {},
   "source": [
    "### Define Cloud Models\n",
    "Private Cloud\n",
    "* Its a cloud that is used by a single entity\n",
    "* Provides much greater control for the consumer and its IT\n",
    "* Greater costs and fewer benefits \n",
    "* May be hosted from on site datacenter\n",
    "* Organizations have complete control over resources and security\n",
    "* Data is not collected with other consumers' data\n",
    "* Hardware must be purchased for startup and maintainance\n",
    "* Oraganizations are responsible for hardware maintenance and updates\n",
    "\n",
    "Public Cloud\n",
    "* A cloud that is built, controlled, and maintained by a third-party cloud provider\n",
    "* Anyone can purchase cloud services and can access and use resources from it\n",
    "* No capital expenditures to scale up\n",
    "* Apps can be quickly provisioned and deprovisioned\n",
    "* Consumers only pay for what they use\n",
    "* Organizations don't have complete control over resources and security\n",
    "\n",
    "Hybrid Cloud\n",
    "* Uses both public and private clouds in inter-connected environment\n",
    "* Can be set to use private cloud to surge for example\n",
    "* Can provide extra layer of security. Consumer decides where to keep specific services\n",
    "* Most flexible\n",
    "* Consumers control security, compliance, or legal requirements\n",
    "\n",
    "Muli-cloud\n",
    "* Using multiple public cloud providers\n",
    "\n",
    "Azure Arc\n",
    "* Is a set of technologies that helps manage your cloud environment\n",
    "* Works for public, private, hybrid, or multi\n",
    "\n",
    "Azure VMware Solution\n",
    "* Lets you run VMware workloads in Azure based on established VMware in private cloud"
   ]
  },
  {
   "cell_type": "markdown",
   "metadata": {},
   "source": [
    "### Consumption Based Model\n",
    "Capital Expenditure (CapEx): typically an upfron, one-time expenditure to purchase or secure tangible resource\n",
    "Operation Expenditure (OpEx): Spending money on services or products over time. i.e renting\n",
    "\n",
    "Cloud computing falls under OpEx with the caveat that you only pay for what you use. This provides the following benefits\n",
    "* No upfront costs\n",
    "* No need to purchase and manage costly infrastructure that might not be used\n",
    "* The ability to pay for more resources when needed\n",
    "* The ability to stop paying when no longer needed"
   ]
  }
 ],
 "metadata": {
  "language_info": {
   "name": "python"
  }
 },
 "nbformat": 4,
 "nbformat_minor": 2
}
